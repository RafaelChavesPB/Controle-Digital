{
  "cells": [
    {
      "cell_type": "code",
      "execution_count": 482,
      "metadata": {
        "id": "ZnQdNrhUydBs"
      },
      "outputs": [],
      "source": [
        "import re\n",
        "import numpy as np\n",
        "import matplotlib.pyplot as plt\n",
        "import math\n",
        "import control as ct\n",
        "import control.matlab as ctm\n",
        "import random as rr\n",
        "from sklearn.metrics import r2_score\n",
        "from scipy.stats import pearsonr"
      ]
    },
    {
      "cell_type": "markdown",
      "metadata": {
        "id": "CN_pUCkyydB0"
      },
      "source": [
        "### Funções auxiliares"
      ]
    },
    {
      "cell_type": "code",
      "execution_count": 483,
      "metadata": {
        "id": "C8C7Pis_ydB0"
      },
      "outputs": [],
      "source": [
        "def moving_average(v, jan):\n",
        "    vet = []\n",
        "    s = 0\n",
        "    for i in range(0, jan):\n",
        "        s += v[i]\n",
        "        vet.append(s/(i+1))      \n",
        "    for j in range(jan, len(v)):\n",
        "        s -= v[j - jan]\n",
        "        s += v[j]\n",
        "        med = s / jan\n",
        "        vet.append(med)\n",
        "    return vet"
      ]
    },
    {
      "cell_type": "code",
      "execution_count": 484,
      "metadata": {
        "id": "dF1qLQRuydB1"
      },
      "outputs": [],
      "source": [
        "def NMRSE(medidos, estimados):\n",
        "    n = len(medidos)\n",
        "    s = 0\n",
        "    media = 0\n",
        "\n",
        "    for i in range(0, n):\n",
        "        d = medidos[i] - estimados[i]\n",
        "        s += d * d\n",
        "        media += medidos[i]\n",
        "        \n",
        "    media /= n\n",
        "    sroot = math.sqrt(s / n)\n",
        "    x = sroot / media\n",
        "    return 1 - x"
      ]
    },
    {
      "cell_type": "code",
      "execution_count": 485,
      "metadata": {
        "id": "bWmk_JKrydB2"
      },
      "outputs": [],
      "source": [
        "def rsquared(medidos, estimados):\n",
        "    n = len(medidos)\n",
        "    sq_erro = 0\n",
        "    sq_total = 0\n",
        "    x_aux = 0\n",
        "    x1_aux = 0\n",
        "    \n",
        "    for i in range(0, n):\n",
        "        d = medidos[i] - estimados[i]\n",
        "        sq_erro += d * d\n",
        "        x_aux += medidos[i] ** 2\n",
        "        x1_aux += medidos[i]\n",
        "\n",
        "    x1_aux *= x1_aux\n",
        "    sq_total = x_aux - x1_aux / n\n",
        "    \n",
        "    return 1 - sq_erro / sq_total"
      ]
    },
    {
      "cell_type": "code",
      "execution_count": 486,
      "metadata": {
        "id": "1TqiMjeSydB3"
      },
      "outputs": [],
      "source": [
        "def pearson(medidos, estimados):\n",
        "    n = len(medidos)\n",
        "    x_barra = 0\n",
        "    y_barra = 0\n",
        "    for i in range(0, n):\n",
        "        x_barra += medidos[i]\n",
        "        y_barra += estimados[i]\n",
        "    x_barra /= n\n",
        "    y_barra /= n\n",
        "\n",
        "    s = 0\n",
        "    sx = 0\n",
        "    sy = 0\n",
        "    for i in range(0, n):\n",
        "        dx = medidos[i] - x_barra\n",
        "        dy = estimados[i] - y_barra\n",
        "        s += dx * dy\n",
        "        sx += dx * dx\n",
        "        sy += dy * dy\n",
        "    sx = math.sqrt(sx)\n",
        "    sy = math.sqrt(sy)\n",
        "    \n",
        "    return s / (sx * sy)"
      ]
    },
    {
      "cell_type": "code",
      "execution_count": 487,
      "metadata": {
        "id": "wv1RgEarydB4"
      },
      "outputs": [],
      "source": [
        "def acha_idx(val, vet):\n",
        "    c = 0\n",
        "    best = 1e9\n",
        "    ans = 0\n",
        "    for x in vet:\n",
        "        diff = abs(x - val)\n",
        "        if diff < best:\n",
        "            best = diff\n",
        "            ans = c\n",
        "        c += 1\n",
        "    return ans"
      ]
    },
    {
      "cell_type": "code",
      "execution_count": 488,
      "metadata": {
        "id": "IpxpZHoaydB5"
      },
      "outputs": [],
      "source": [
        "def calcula_estatistica(medidos, estimados):\n",
        "    print('NMRSE = ', NMRSE(medidos, estimados))\n",
        "    print('r2 = ', rsquared(medidos, estimados))\n",
        "    print('pearson = ', pearson(medidos, estimados))"
      ]
    },
    {
      "cell_type": "code",
      "execution_count": 489,
      "metadata": {
        "id": "SMmYwKXDydB5"
      },
      "outputs": [],
      "source": [
        "ESTADO_PERMANENTE = .8\n",
        "AMP_DEGRAU = .8\n",
        "TEMPO_AMOSTRAGEM = .3\n",
        "TEMPO_TOTAL = 15\n",
        "TEMPO_SIMULACAO = TEMPO_TOTAL - 3"
      ]
    },
    {
      "cell_type": "code",
      "execution_count": 490,
      "metadata": {
        "id": "QGJfl_bMydB6"
      },
      "outputs": [],
      "source": [
        "def plotarGraficos(temp, amp, useft, usefv, NAME):\n",
        "    plt.step(temp, amp, label=NAME)\n",
        "    plt.step(useft, usefv)\n",
        "    plt.plot(temp, [AMP_DEGRAU] * len(temp))\n",
        "    plt.title('Resultado simulacao modelo ' + NAME)\n",
        "    plt.legend([NAME, 'Coletado', 'Degrau'])\n",
        "    plt.ylabel('Amplitude (V)')\n",
        "    plt.xlabel('Tempo (s)')\n",
        "    plt.grid(1)"
      ]
    },
    {
      "cell_type": "code",
      "execution_count": 491,
      "metadata": {
        "id": "LokHDJMaydBx"
      },
      "outputs": [],
      "source": [
        "def clean(num):\n",
        "    num = re.sub(r'\\n','', num)\n",
        "    return float(num)"
      ]
    },
    {
      "attachments": {},
      "cell_type": "markdown",
      "metadata": {
        "id": "erhf0nWbydBw"
      },
      "source": [
        "### Obtendo tempo de amostragem ideal"
      ]
    },
    {
      "cell_type": "code",
      "execution_count": 492,
      "metadata": {},
      "outputs": [
        {
          "data": {
            "text/plain": [
              "6668"
            ]
          },
          "execution_count": 492,
          "metadata": {},
          "output_type": "execute_result"
        }
      ],
      "source": [
        "with open ('amostragem/valores.txt') as f:\n",
        "    line = f.readlines()\n",
        "    val_001 = list(map(clean, line))\n",
        "len(val_001)"
      ]
    },
    {
      "cell_type": "code",
      "execution_count": 493,
      "metadata": {},
      "outputs": [
        {
          "data": {
            "text/plain": [
              "6668"
            ]
          },
          "execution_count": 493,
          "metadata": {},
          "output_type": "execute_result"
        }
      ],
      "source": [
        "with open ('amostragem/tempo.txt') as f:\n",
        "    line = f.readlines()\n",
        "    t_001 = list(map(clean, line))\n",
        "len(t_001)"
      ]
    },
    {
      "cell_type": "code",
      "execution_count": 494,
      "metadata": {},
      "outputs": [
        {
          "data": {
            "text/plain": [
              "4668"
            ]
          },
          "execution_count": 494,
          "metadata": {},
          "output_type": "execute_result"
        }
      ],
      "source": [
        "val_001 = [val_001[i] for i in range(len(t_001)) if t_001[i] >= 3]\n",
        "len(val_001)"
      ]
    },
    {
      "cell_type": "code",
      "execution_count": 495,
      "metadata": {},
      "outputs": [
        {
          "data": {
            "text/plain": [
              "4668"
            ]
          },
          "execution_count": 495,
          "metadata": {},
          "output_type": "execute_result"
        }
      ],
      "source": [
        "t_001 = [t_001[i] - 3 for i in range(len(t_001)) if t_001[i] >= 3]\n",
        "len(t_001)"
      ]
    },
    {
      "cell_type": "code",
      "execution_count": 496,
      "metadata": {},
      "outputs": [],
      "source": [
        "# val_001 = moving_average(val_001, 15)"
      ]
    },
    {
      "cell_type": "code",
      "execution_count": 497,
      "metadata": {},
      "outputs": [
        {
          "data": {
            "text/plain": [
              "(0.76, 1272, 0.75758, 1.9080000000000004)"
            ]
          },
          "execution_count": 497,
          "metadata": {},
          "output_type": "execute_result"
        }
      ],
      "source": [
        "v95 = .95*AMP_DEGRAU\n",
        "idx = acha_idx(v95, val_001)\n",
        "t95 =  t_001[idx]\n",
        "v95, idx, val_001[idx], t95"
      ]
    },
    {
      "cell_type": "code",
      "execution_count": 498,
      "metadata": {},
      "outputs": [
        {
          "data": {
            "text/plain": [
              "(0.12720000000000004, 0.38160000000000005)"
            ]
          },
          "execution_count": 498,
          "metadata": {},
          "output_type": "execute_result"
        }
      ],
      "source": [
        "lower_t95 = t95/15\n",
        "upper_t95 = t95/5\n",
        "lower_t95, upper_t95"
      ]
    },
    {
      "cell_type": "code",
      "execution_count": 499,
      "metadata": {},
      "outputs": [
        {
          "data": {
            "image/png": "[encoded data removed]",
            "text/plain": [
              "<Figure size 432x288 with 1 Axes>"
            ]
          },
          "metadata": {
            "needs_background": "light"
          },
          "output_type": "display_data"
        }
      ],
      "source": [
        "plt.plot(t_001, len(t_001)*[.8], label='Entrada')\n",
        "plt.step(t_001, val_001, label='Amostra')\n",
        "plt.stem(t_001[idx], val_001[idx], label='t95')\n",
        "plt.title('Resposta ao degrau utilizando T = 1ms')\n",
        "plt.legend()\n",
        "plt.grid()\n",
        "plt.show()"
      ]
    },
    {
      "cell_type": "markdown",
      "metadata": {
        "id": "erhf0nWbydBw"
      },
      "source": [
        "### Leitura dos arquivos de entrada"
      ]
    },
    {
      "cell_type": "code",
      "execution_count": 500,
      "metadata": {
        "id": "xDTpQDzAydBy"
      },
      "outputs": [],
      "source": [
        "t = [.3*x for x in range(0, round(15.3/.3), 1)]"
      ]
    },
    {
      "cell_type": "code",
      "execution_count": 501,
      "metadata": {
        "colab": {
          "base_uri": "https://localhost:8080/"
        },
        "id": "wenC9AzfydBy",
        "outputId": "bc392a37-1a4c-498e-a409-c3c9adef7dff"
      },
      "outputs": [
        {
          "name": "stdout",
          "output_type": "stream",
          "text": [
            "[0.0, 0.0, 0.0, 0.0, 0.0, 0.0, 0.0, 0.0, 0.0, 0.0, 0.0, 0.37634, 0.53275, 0.61095, 0.6696, 0.7087, 0.7478, 0.76246, 0.77224, 0.77713, 0.77224, 0.77224, 0.77713, 0.79179, 0.79179, 0.7869, 0.79179, 0.7869, 0.79179, 0.78201, 0.79179, 0.79668, 0.7869, 0.79668, 0.7869, 0.79179, 0.79179, 0.79668, 0.79668, 0.79179, 0.7869, 0.79179, 0.79668, 0.77713, 0.7869, 0.79668, 0.7869, 0.79668, 0.79179, 0.7869, 0.79179]\n"
          ]
        },
        {
          "data": {
            "text/plain": [
              "51"
            ]
          },
          "execution_count": 501,
          "metadata": {},
          "output_type": "execute_result"
        }
      ],
      "source": [
        "with open ('amostragem/values_0.3s.txt') as f:\n",
        "    line = f.readlines()\n",
        "    val = list(map(clean, line[0].split(',')))\n",
        "print(val)\n",
        "len(val)"
      ]
    },
    {
      "cell_type": "markdown",
      "metadata": {
        "id": "U36i6Ro1ydB6"
      },
      "source": [
        "### Filtrando dados e selecionando a parte útil"
      ]
    },
    {
      "cell_type": "code",
      "execution_count": 502,
      "metadata": {
        "id": "tz6oW0KdydB7"
      },
      "outputs": [],
      "source": [
        "janela = 3\n",
        "usefv = [val[i] for i in range(len(t)) if t[i] >= 3]\n",
        "useft = [i - 3. for i in t if i >= 3]\n",
        "#usefv2 = np.convolve(val[10:], np.ones(janela)/janela, mode='valid')\n"
      ]
    },
    {
      "cell_type": "code",
      "execution_count": 503,
      "metadata": {},
      "outputs": [
        {
          "data": {
            "image/png": "[encoded data removed]",
            "text/plain": [
              "<Figure size 432x288 with 1 Axes>"
            ]
          },
          "metadata": {
            "needs_background": "light"
          },
          "output_type": "display_data"
        }
      ],
      "source": [
        "plt.plot(useft, len(useft)*[.8], label='Entrada')\n",
        "plt.step(useft, usefv, label='Amostra')\n",
        "plt.title('Resposta ao degrau utilizando T = 0.30s')\n",
        "plt.legend()\n",
        "plt.grid()\n",
        "plt.show()"
      ]
    },
    {
      "cell_type": "code",
      "execution_count": 504,
      "metadata": {},
      "outputs": [
        {
          "data": {
            "text/plain": [
              "[0.0,\n",
              " 0.37634,\n",
              " 0.53275,\n",
              " 0.61095,\n",
              " 0.6696,\n",
              " 0.7087,\n",
              " 0.7478,\n",
              " 0.76246,\n",
              " 0.77224,\n",
              " 0.77713,\n",
              " 0.77224,\n",
              " 0.77224,\n",
              " 0.77713,\n",
              " 0.79179,\n",
              " 0.79179,\n",
              " 0.7869,\n",
              " 0.79179,\n",
              " 0.7869,\n",
              " 0.79179,\n",
              " 0.78201,\n",
              " 0.79179,\n",
              " 0.79668,\n",
              " 0.7869,\n",
              " 0.79668,\n",
              " 0.7869,\n",
              " 0.79179,\n",
              " 0.79179,\n",
              " 0.79668,\n",
              " 0.79668,\n",
              " 0.79179,\n",
              " 0.7869,\n",
              " 0.79179,\n",
              " 0.79668,\n",
              " 0.77713,\n",
              " 0.7869,\n",
              " 0.79668,\n",
              " 0.7869,\n",
              " 0.79668,\n",
              " 0.79179,\n",
              " 0.7869,\n",
              " 0.79179]"
            ]
          },
          "execution_count": 504,
          "metadata": {},
          "output_type": "execute_result"
        }
      ],
      "source": [
        "usefv"
      ]
    },
    {
      "cell_type": "markdown",
      "metadata": {
        "id": "VR-lAEP8ydB7"
      },
      "source": [
        "### Procurando melhor reta para o método de Ziegler-Nichols"
      ]
    },
    {
      "cell_type": "code",
      "execution_count": 505,
      "metadata": {
        "id": "foM9VsKvydB7"
      },
      "outputs": [],
      "source": [
        "def calca(y1, y2, x1, x2):\n",
        "    return (y2 - y1)/(x2 - x1)\n",
        "\n",
        "def calcb(y, a, x):\n",
        "    return y - a * x"
      ]
    },
    {
      "cell_type": "code",
      "execution_count": 506,
      "metadata": {
        "colab": {
          "base_uri": "https://localhost:8080/"
        },
        "id": "Kykn-2Y3ydB8",
        "outputId": "86dfcb29-2353-434c-83c6-5f58c161fbc9"
      },
      "outputs": [
        {
          "name": "stdout",
          "output_type": "stream",
          "text": [
            "melhor resultado -> a = -1 b = -1 c = 1\n"
          ]
        }
      ],
      "source": [
        "besta = -1\n",
        "bestb = -1\n",
        "bestc = 1\n",
        "for i in range(1, len(usefv)): #no vetor de amplitudes, testar todas as amplitudes\n",
        "    nowa = calca(usefv[0], usefv[i], useft[0], useft[i])# calcular coeficiente angular\n",
        "    nowb = calcb(usefv[0], nowa, useft[0]) #calcular coeficiente linear\n",
        "    if math.isclose(nowa, 0., abs_tol=1e-05):\n",
        "        continue\n",
        "    c = 0\n",
        "    for j in range(1, len(useft)): # testar para todos os pontos da curva (eixo tempo)\n",
        "         ponto_reta = nowa * useft[j] + nowb # calcular amplitude\n",
        "         if math.isclose(ponto_reta, usefv[j], rel_tol=1e-05, abs_tol=1e-05): # se forem iguais \n",
        "             c += 1\n",
        "    #print(i, nowa, nowb, c)\n",
        "    if(c > bestc): #atualiza os valores se este é o melhor resultado até agora\n",
        "        besta = nowa\n",
        "        bestb = nowb\n",
        "        bestc = c\n",
        "print(\"melhor resultado ->\",\"a =\", round(besta, 3), \"b =\", round(bestb, 3), \"c =\", bestc)\n",
        "# besta = 1.694\n",
        "besta = usefv[1]/useft[1]\n",
        "bestb = 0"
      ]
    },
    {
      "cell_type": "code",
      "execution_count": 589,
      "metadata": {
        "colab": {
          "base_uri": "https://localhost:8080/",
          "height": 295
        },
        "id": "FfPtkShrydB8",
        "outputId": "d36f547d-fece-4f60-d03a-369095af3bf3"
      },
      "outputs": [
        {
          "data": {
            "image/png": "[encoded data removed]",
            "text/plain": [
              "<Figure size 432x288 with 1 Axes>"
            ]
          },
          "metadata": {
            "needs_background": "light"
          },
          "output_type": "display_data"
        }
      ],
      "source": [
        "def vetor_reta(cang, coefb, vet_tempo):\n",
        "    val1 = []\n",
        "    t1 = []\n",
        "    for i in range(0, len(vet_tempo)):\n",
        "        temp = cang * vet_tempo[i] + coefb\n",
        "        if temp > 0.8:\n",
        "            break\n",
        "        val1.append(temp)\n",
        "        t1.append(vet_tempo[i])\n",
        "    t1.append(0.8/cang)\n",
        "    val1.append(0.8)    \n",
        "    return t1, val1,\n",
        "\n",
        "t_reta, v_reta = vetor_reta(besta, bestb, useft)\n",
        "\n",
        "plt.plot(useft, usefv)\n",
        "plt.plot(t_reta, v_reta, 'r')\n",
        "plt.plot(useft, len(usefv) * [0.8])\n",
        "plt.legend(['Amostra','y = ' + str(round(besta,3)) + 'x','Entrada'],loc='center right')\n",
        "plt.ylabel('Amplitude (V)')\n",
        "plt.xlabel('Tempo (s)')\n",
        "plt.title(\"Melhor reta que enquadra na resposta do sistema\")\n",
        "\n",
        "plt.xlim(0, 4)\n",
        "plt.ylim(0, 1)\n",
        "plt.show()"
      ]
    },
    {
      "cell_type": "code",
      "execution_count": 104,
      "metadata": {},
      "outputs": [
        {
          "data": {
            "text/plain": [
              "1.2544666666666675"
            ]
          },
          "execution_count": 104,
          "metadata": {},
          "output_type": "execute_result"
        }
      ],
      "source": [
        "usefv[1]/useft[1]"
      ]
    },
    {
      "cell_type": "code",
      "execution_count": 508,
      "metadata": {
        "id": "8ZQRAgWXydB8"
      },
      "outputs": [],
      "source": [
        "valores_estimados = []"
      ]
    },
    {
      "cell_type": "markdown",
      "metadata": {
        "id": "5mJOpx0VydB9"
      },
      "source": [
        "## Modelos de identificação de sistemas"
      ]
    },
    {
      "cell_type": "markdown",
      "metadata": {
        "id": "dmOMkX73ydB9"
      },
      "source": [
        "### Ziegler-Nichols"
      ]
    },
    {
      "cell_type": "code",
      "execution_count": 509,
      "metadata": {
        "colab": {
          "base_uri": "https://localhost:8080/"
        },
        "id": "K9U-opB8ydB9",
        "outputId": "ff533276-3e57-4ad1-8839-f0d963513bb2"
      },
      "outputs": [
        {
          "data": {
            "text/plain": [
              "(0.8, 0.8, 1.0)"
            ]
          },
          "execution_count": 509,
          "metadata": {},
          "output_type": "execute_result"
        }
      ],
      "source": [
        "NAME = 'Ziegler-Nichols'\n",
        "dy = ESTADO_PERMANENTE\n",
        "du = AMP_DEGRAU\n",
        "k = dy / du\n",
        "dy, du, k"
      ]
    },
    {
      "cell_type": "code",
      "execution_count": 510,
      "metadata": {
        "id": "S4t_gwHOydB_"
      },
      "outputs": [
        {
          "data": {
            "text/plain": [
              "0.6377212095445604"
            ]
          },
          "execution_count": 510,
          "metadata": {},
          "output_type": "execute_result"
        }
      ],
      "source": [
        "T = .8 / besta\n",
        "T\n",
        "T_zig = T\n",
        "T_zig"
      ]
    },
    {
      "cell_type": "code",
      "execution_count": 511,
      "metadata": {
        "id": "x23lDEgxydB_"
      },
      "outputs": [],
      "source": [
        "num = [k]\n",
        "den = [T, 1]"
      ]
    },
    {
      "cell_type": "code",
      "execution_count": 512,
      "metadata": {
        "colab": {
          "base_uri": "https://localhost:8080/",
          "height": 39
        },
        "id": "fEs1OKljydCA",
        "outputId": "8b62915f-b77d-4e37-eca1-03c6b78e7459"
      },
      "outputs": [
        {
          "data": {
            "text/latex": [
              "$$\\frac{1}{0.6377 s + 1}$$"
            ],
            "text/plain": [
              "TransferFunction(array([1.]), array([0.63772121, 1.        ]))"
            ]
          },
          "execution_count": 512,
          "metadata": {},
          "output_type": "execute_result"
        }
      ],
      "source": [
        "sys = ct.tf(num, den)\n",
        "sys"
      ]
    },
    {
      "cell_type": "code",
      "execution_count": 513,
      "metadata": {
        "colab": {
          "base_uri": "https://localhost:8080/",
          "height": 39
        },
        "id": "QW1l_Zm4ydCA",
        "outputId": "b2e3c965-88c0-4953-f7d0-36b6615a509c"
      },
      "outputs": [
        {
          "data": {
            "text/latex": [
              "$$\\frac{0.3753}{z - 0.6247}\\quad dt = 0.3$$"
            ],
            "text/plain": [
              "TransferFunction(array([0.3752633]), array([ 1.       , -0.6247367]), 0.3)"
            ]
          },
          "execution_count": 513,
          "metadata": {},
          "output_type": "execute_result"
        }
      ],
      "source": [
        "dsys = ctm.c2d(sys, TEMPO_AMOSTRAGEM, 'zoh')\n",
        "dsys"
      ]
    },
    {
      "cell_type": "code",
      "execution_count": 514,
      "metadata": {},
      "outputs": [
        {
          "data": {
            "text/plain": [
              "(0.0, 0.0, 0.06977530584830441, 0.06739665311678013)"
            ]
          },
          "execution_count": 514,
          "metadata": {},
          "output_type": "execute_result"
        }
      ],
      "source": [
        "num = [1]\n",
        "den = [1,1]\n",
        "sys = ct.tf(num, den)\n",
        "test, y_test = ct.step_response(sys)\n",
        "test[0], y_test[0], test[1], y_test[1]"
      ]
    },
    {
      "cell_type": "code",
      "execution_count": 515,
      "metadata": {
        "id": "Lf7LxofGydCA"
      },
      "outputs": [],
      "source": [
        "temp, amp = ct.step_response(dsys, TEMPO_SIMULACAO)\n",
        "amp *= AMP_DEGRAU\n",
        "valores_estimados.append(amp)"
      ]
    },
    {
      "cell_type": "code",
      "execution_count": 516,
      "metadata": {
        "colab": {
          "base_uri": "https://localhost:8080/",
          "height": 295
        },
        "id": "ve4dpCoKydCA",
        "outputId": "5bf7fff6-c516-4a7e-e7a8-34f65dd55ad6"
      },
      "outputs": [
        {
          "data": {
            "image/png": "[encoded data removed]",
            "text/plain": [
              "<Figure size 432x288 with 1 Axes>"
            ]
          },
          "metadata": {
            "needs_background": "light"
          },
          "output_type": "display_data"
        }
      ],
      "source": [
        "plotarGraficos(temp, amp, useft, usefv, NAME)"
      ]
    },
    {
      "cell_type": "markdown",
      "metadata": {
        "id": "MEbUUDWBydCB"
      },
      "source": [
        "### Smith de primeira ordem"
      ]
    },
    {
      "cell_type": "code",
      "execution_count": 517,
      "metadata": {
        "colab": {
          "base_uri": "https://localhost:8080/"
        },
        "id": "bKL3jv8qydCB",
        "outputId": "6ddcd590-7898-464d-e5ac-a8a8b2e2dadf"
      },
      "outputs": [
        {
          "data": {
            "text/plain": [
              "(0.8, 0.8, 1.0)"
            ]
          },
          "execution_count": 517,
          "metadata": {},
          "output_type": "execute_result"
        }
      ],
      "source": [
        "NAME = 'Smith de 1º ordem'\n",
        "dy = ESTADO_PERMANENTE\n",
        "du = AMP_DEGRAU\n",
        "k = dy / du\n",
        "dy, du, k"
      ]
    },
    {
      "cell_type": "code",
      "execution_count": 518,
      "metadata": {
        "colab": {
          "base_uri": "https://localhost:8080/"
        },
        "id": "cxyu6j-yydCB",
        "outputId": "15582575-389c-4407-fc26-6b316b0cd41a"
      },
      "outputs": [
        {
          "data": {
            "text/plain": [
              "(0.22400000000000003, 0.5056)"
            ]
          },
          "execution_count": 518,
          "metadata": {},
          "output_type": "execute_result"
        }
      ],
      "source": [
        "v1 = .28 * ESTADO_PERMANENTE\n",
        "v2 = .632 * ESTADO_PERMANENTE\n",
        "v1, v2"
      ]
    },
    {
      "cell_type": "code",
      "execution_count": 590,
      "metadata": {
        "colab": {
          "base_uri": "https://localhost:8080/"
        },
        "id": "JFOp1T3hydCB",
        "outputId": "bca6f6bc-4b4f-4586-eab5-2d3ccc77f9fc"
      },
      "outputs": [
        {
          "data": {
            "text/plain": [
              "(0, 1)"
            ]
          },
          "execution_count": 590,
          "metadata": {},
          "output_type": "execute_result"
        }
      ],
      "source": [
        "k1 = acha_idx(v1, usefv)\n",
        "k2 = acha_idx(v2, usefv)\n",
        "k1,k2"
      ]
    },
    {
      "cell_type": "code",
      "execution_count": 520,
      "metadata": {
        "colab": {
          "base_uri": "https://localhost:8080/"
        },
        "id": "8Pskc-NrydCB",
        "outputId": "2c26bf7d-4cfd-4eff-dfc7-f8ae40e0b258"
      },
      "outputs": [
        {
          "data": {
            "text/plain": [
              "0.44999999999999973"
            ]
          },
          "execution_count": 520,
          "metadata": {},
          "output_type": "execute_result"
        }
      ],
      "source": [
        "t1, t2 = useft[k1], useft[k2]\n",
        "T = 1.5 * (t2 - t1)\n",
        "Td = t2 - T\n",
        "T"
      ]
    },
    {
      "cell_type": "code",
      "execution_count": 521,
      "metadata": {
        "colab": {
          "base_uri": "https://localhost:8080/"
        },
        "id": "o6zBIyKqydCC",
        "outputId": "e9970359-78b4-4b2b-d398-bf8cb7d62e4c"
      },
      "outputs": [
        {
          "data": {
            "text/plain": [
              "([1.0], [0.44999999999999973, 1])"
            ]
          },
          "execution_count": 521,
          "metadata": {},
          "output_type": "execute_result"
        }
      ],
      "source": [
        "num = [k]\n",
        "den = [T, 1]\n",
        "num, den"
      ]
    },
    {
      "cell_type": "code",
      "execution_count": 522,
      "metadata": {
        "colab": {
          "base_uri": "https://localhost:8080/",
          "height": 39
        },
        "id": "17O26MlrydCC",
        "outputId": "ab7ab084-deca-4359-846f-6228d02a4b77"
      },
      "outputs": [
        {
          "data": {
            "text/latex": [
              "$$\\frac{1}{0.45 s + 1}$$"
            ],
            "text/plain": [
              "TransferFunction(array([1.]), array([0.45, 1.  ]))"
            ]
          },
          "execution_count": 522,
          "metadata": {},
          "output_type": "execute_result"
        }
      ],
      "source": [
        "sys = ct.tf(num, den)\n",
        "sys"
      ]
    },
    {
      "cell_type": "code",
      "execution_count": 523,
      "metadata": {
        "colab": {
          "base_uri": "https://localhost:8080/",
          "height": 39
        },
        "id": "7ntwtNo4ydCC",
        "outputId": "34113bdc-c449-4701-fa0d-5cf434cb93a2"
      },
      "outputs": [
        {
          "data": {
            "text/latex": [
              "$$\\frac{0.4866}{z - 0.5134}\\quad dt = 0.3$$"
            ],
            "text/plain": [
              "TransferFunction(array([0.48658288]), array([ 1.        , -0.51341712]), 0.3)"
            ]
          },
          "execution_count": 523,
          "metadata": {},
          "output_type": "execute_result"
        }
      ],
      "source": [
        "dsys = ctm.c2d(sys, TEMPO_AMOSTRAGEM, 'zoh')\n",
        "dsys"
      ]
    },
    {
      "cell_type": "code",
      "execution_count": 524,
      "metadata": {
        "id": "DwEMHyYEydCC"
      },
      "outputs": [],
      "source": [
        "temp, amp = ct.step_response(dsys, TEMPO_SIMULACAO)\n",
        "amp *= AMP_DEGRAU\n",
        "valores_estimados.append(amp)"
      ]
    },
    {
      "cell_type": "code",
      "execution_count": 525,
      "metadata": {
        "colab": {
          "base_uri": "https://localhost:8080/",
          "height": 295
        },
        "id": "DQgdQK_uydCC",
        "outputId": "eaff0df7-f888-4abb-8f6d-78eef95dcc32"
      },
      "outputs": [
        {
          "data": {
            "image/png": "[encoded data removed]",
            "text/plain": [
              "<Figure size 432x288 with 1 Axes>"
            ]
          },
          "metadata": {
            "needs_background": "light"
          },
          "output_type": "display_data"
        }
      ],
      "source": [
        "plotarGraficos(temp, amp, useft, usefv, NAME)"
      ]
    },
    {
      "cell_type": "markdown",
      "metadata": {
        "id": "cNEY9YnoydCD"
      },
      "source": [
        "### Sundaresan-Krishnaswamy:"
      ]
    },
    {
      "cell_type": "code",
      "execution_count": 526,
      "metadata": {
        "id": "O0SAibgIydCD"
      },
      "outputs": [],
      "source": [
        "NAME = 'Sundaresan-Krishnaswamy'\n",
        "v1 = .353 * ESTADO_PERMANENTE\n",
        "v2 = .85 * ESTADO_PERMANENTE"
      ]
    },
    {
      "cell_type": "code",
      "execution_count": 527,
      "metadata": {
        "colab": {
          "base_uri": "https://localhost:8080/"
        },
        "id": "jyJ8Ev9nydCD",
        "outputId": "3064176d-66ca-405b-bf0f-a218c716e3b4"
      },
      "outputs": [
        {
          "data": {
            "text/plain": [
              "(0.8, 0.8, 1.0)"
            ]
          },
          "execution_count": 527,
          "metadata": {},
          "output_type": "execute_result"
        }
      ],
      "source": [
        "dy = ESTADO_PERMANENTE\n",
        "du = AMP_DEGRAU\n",
        "k = dy / du\n",
        "dy, du, k"
      ]
    },
    {
      "cell_type": "code",
      "execution_count": 528,
      "metadata": {
        "colab": {
          "base_uri": "https://localhost:8080/"
        },
        "id": "4Beri4iVydCD",
        "outputId": "fd4a0425-ee4e-4e9e-9621-5ef4d9780dbb"
      },
      "outputs": [],
      "source": [
        "k1 = acha_idx(v1, usefv)\n",
        "k2 = acha_idx(v2, usefv)"
      ]
    },
    {
      "cell_type": "code",
      "execution_count": 529,
      "metadata": {
        "colab": {
          "base_uri": "https://localhost:8080/"
        },
        "id": "d56w6g9GydCD",
        "outputId": "bc2c5208-602d-49c9-8d1e-297ed86c610a"
      },
      "outputs": [
        {
          "data": {
            "text/plain": [
              "(0.6030000000000003, 0.04199999999999976)"
            ]
          },
          "execution_count": 529,
          "metadata": {},
          "output_type": "execute_result"
        }
      ],
      "source": [
        "t1, t2 = useft[k1], useft[k2]\n",
        "T = .67 * (t2 - t1)\n",
        "Td = 1.3 * t1 - .29 * t2\n",
        "T, Td"
      ]
    },
    {
      "cell_type": "code",
      "execution_count": 530,
      "metadata": {
        "colab": {
          "base_uri": "https://localhost:8080/"
        },
        "id": "cjU9oTAHydCD",
        "outputId": "d706a1c4-3455-42d3-a179-f0fb8809143e"
      },
      "outputs": [
        {
          "data": {
            "text/plain": [
              "([1.0], [0.6030000000000003, 1])"
            ]
          },
          "execution_count": 530,
          "metadata": {},
          "output_type": "execute_result"
        }
      ],
      "source": [
        "num = [k]\n",
        "den = [T, 1]\n",
        "num, den"
      ]
    },
    {
      "cell_type": "code",
      "execution_count": 531,
      "metadata": {
        "colab": {
          "base_uri": "https://localhost:8080/",
          "height": 39
        },
        "id": "diDK3q4UydCE",
        "outputId": "a7f9d46b-525a-4d97-e487-82103e52270f"
      },
      "outputs": [
        {
          "data": {
            "text/latex": [
              "$$\\frac{1}{0.603 s + 1}$$"
            ],
            "text/plain": [
              "TransferFunction(array([1.]), array([0.603, 1.   ]))"
            ]
          },
          "execution_count": 531,
          "metadata": {},
          "output_type": "execute_result"
        }
      ],
      "source": [
        "sys = ct.tf(num, den)\n",
        "best_model = [[num],[den]]\n",
        "sys"
      ]
    },
    {
      "cell_type": "code",
      "execution_count": 532,
      "metadata": {
        "colab": {
          "base_uri": "https://localhost:8080/",
          "height": 39
        },
        "id": "7zqeE2Q7ydCE",
        "outputId": "78b524c6-fc2f-4608-a56a-d263ae5bd68c"
      },
      "outputs": [
        {
          "data": {
            "text/latex": [
              "$$\\frac{0.392}{z - 0.608}\\quad dt = 0.3$$"
            ],
            "text/plain": [
              "TransferFunction(array([0.39195868]), array([ 1.        , -0.60804132]), 0.3)"
            ]
          },
          "execution_count": 532,
          "metadata": {},
          "output_type": "execute_result"
        }
      ],
      "source": [
        "dsys = ctm.c2d(sys, TEMPO_AMOSTRAGEM, 'zoh')\n",
        "dsys"
      ]
    },
    {
      "cell_type": "code",
      "execution_count": 533,
      "metadata": {
        "id": "IKYJIu5vydCE"
      },
      "outputs": [],
      "source": [
        "temp, amp = ct.step_response(dsys, TEMPO_SIMULACAO)\n",
        "amp *= AMP_DEGRAU\n",
        "valores_estimados.append(amp)"
      ]
    },
    {
      "cell_type": "code",
      "execution_count": 534,
      "metadata": {
        "colab": {
          "base_uri": "https://localhost:8080/",
          "height": 295
        },
        "id": "CfSYUNlpydCE",
        "outputId": "08cfdf99-ece8-4a0f-a5f2-ef316f2d7fc6"
      },
      "outputs": [
        {
          "data": {
            "image/png": "[encoded data removed]",
            "text/plain": [
              "<Figure size 432x288 with 1 Axes>"
            ]
          },
          "metadata": {
            "needs_background": "light"
          },
          "output_type": "display_data"
        }
      ],
      "source": [
        "plotarGraficos(temp, amp, useft, usefv, NAME)"
      ]
    },
    {
      "cell_type": "markdown",
      "metadata": {
        "id": "usH4DozYydCE"
      },
      "source": [
        "### Broida"
      ]
    },
    {
      "cell_type": "code",
      "execution_count": 535,
      "metadata": {
        "id": "BDlhZ8jNydCE"
      },
      "outputs": [],
      "source": [
        "NAME = 'Broida'\n",
        "v1 = .28 * ESTADO_PERMANENTE\n",
        "v2 = .4 * ESTADO_PERMANENTE"
      ]
    },
    {
      "cell_type": "code",
      "execution_count": 536,
      "metadata": {
        "colab": {
          "base_uri": "https://localhost:8080/"
        },
        "id": "GGk2VWKvydCF",
        "outputId": "3bf052ff-f3d8-46db-b5e9-ebfcf37204fe"
      },
      "outputs": [
        {
          "data": {
            "text/plain": [
              "(0.8, 0.8, 1.0)"
            ]
          },
          "execution_count": 536,
          "metadata": {},
          "output_type": "execute_result"
        }
      ],
      "source": [
        "dy = ESTADO_PERMANENTE\n",
        "du = AMP_DEGRAU\n",
        "k = dy / du\n",
        "dy, du, k"
      ]
    },
    {
      "cell_type": "code",
      "execution_count": 537,
      "metadata": {
        "colab": {
          "base_uri": "https://localhost:8080/"
        },
        "id": "KfACl-vGydCF",
        "outputId": "2407f083-d6fe-4876-996c-040028582dbe"
      },
      "outputs": [],
      "source": [
        "k1 = acha_idx(v1, usefv)\n",
        "k2 = acha_idx(v2, usefv)\n",
        "k2 += 1"
      ]
    },
    {
      "cell_type": "code",
      "execution_count": 538,
      "metadata": {
        "colab": {
          "base_uri": "https://localhost:8080/"
        },
        "id": "ZNBQoIu1ydCF",
        "outputId": "e5cc596a-bd5a-408a-d68c-f56c773cf793"
      },
      "outputs": [
        {
          "data": {
            "text/plain": [
              "1.649999999999999"
            ]
          },
          "execution_count": 538,
          "metadata": {},
          "output_type": "execute_result"
        }
      ],
      "source": [
        "t1, t2 = useft[k1], useft[k2]\n",
        "T = 5.5 * (t2 - t1)\n",
        "Td = t2 - T\n",
        "T"
      ]
    },
    {
      "cell_type": "code",
      "execution_count": 539,
      "metadata": {
        "colab": {
          "base_uri": "https://localhost:8080/"
        },
        "id": "_50VZ_EwydCF",
        "outputId": "43abd010-e158-4c4a-8c9b-8351fddc25c2"
      },
      "outputs": [
        {
          "data": {
            "text/plain": [
              "([1.0], [1.649999999999999, 1])"
            ]
          },
          "execution_count": 539,
          "metadata": {},
          "output_type": "execute_result"
        }
      ],
      "source": [
        "num = [k]\n",
        "den = [T, 1]\n",
        "num, den"
      ]
    },
    {
      "cell_type": "code",
      "execution_count": 540,
      "metadata": {
        "colab": {
          "base_uri": "https://localhost:8080/",
          "height": 39
        },
        "id": "l7wGJ4SIydCF",
        "outputId": "c6cd0c48-16ad-45c8-d2e4-ca11f71a889a"
      },
      "outputs": [
        {
          "data": {
            "text/latex": [
              "$$\\frac{1}{1.65 s + 1}$$"
            ],
            "text/plain": [
              "TransferFunction(array([1.]), array([1.65, 1.  ]))"
            ]
          },
          "execution_count": 540,
          "metadata": {},
          "output_type": "execute_result"
        }
      ],
      "source": [
        "sys = ct.tf(num, den)\n",
        "sys"
      ]
    },
    {
      "cell_type": "code",
      "execution_count": 541,
      "metadata": {
        "colab": {
          "base_uri": "https://localhost:8080/",
          "height": 39
        },
        "id": "aanvNVZYydCG",
        "outputId": "44941a76-f51b-489f-8472-4d98d6af59e1"
      },
      "outputs": [
        {
          "data": {
            "text/latex": [
              "$$\\frac{0.1662}{z - 0.8338}\\quad dt = 0.3$$"
            ],
            "text/plain": [
              "TransferFunction(array([0.16624708]), array([ 1.        , -0.83375292]), 0.3)"
            ]
          },
          "execution_count": 541,
          "metadata": {},
          "output_type": "execute_result"
        }
      ],
      "source": [
        "dsys = ctm.c2d(sys, TEMPO_AMOSTRAGEM, 'zoh')\n",
        "dsys"
      ]
    },
    {
      "cell_type": "code",
      "execution_count": 542,
      "metadata": {
        "id": "f2cH9T_hydCG"
      },
      "outputs": [],
      "source": [
        "temp, amp = ct.step_response(dsys, TEMPO_SIMULACAO)\n",
        "amp *= AMP_DEGRAU\n",
        "valores_estimados.append(amp)"
      ]
    },
    {
      "cell_type": "code",
      "execution_count": 543,
      "metadata": {
        "colab": {
          "base_uri": "https://localhost:8080/",
          "height": 295
        },
        "id": "W9jA0RgJydCG",
        "outputId": "4dfb9b55-b61b-416a-f215-8ec7faf16cf1"
      },
      "outputs": [
        {
          "data": {
            "image/png": "[encoded data removed]",
            "text/plain": [
              "<Figure size 432x288 with 1 Axes>"
            ]
          },
          "metadata": {
            "needs_background": "light"
          },
          "output_type": "display_data"
        }
      ],
      "source": [
        "plotarGraficos(temp, amp, useft, usefv, NAME)"
      ]
    },
    {
      "cell_type": "markdown",
      "metadata": {
        "id": "FoAw48YoydCG"
      },
      "source": [
        "### Smith de segunda ordem"
      ]
    },
    {
      "cell_type": "code",
      "execution_count": 544,
      "metadata": {
        "id": "TXaeJqnbydCG"
      },
      "outputs": [],
      "source": [
        "NAME = 'Smith de 2º ordem'\n",
        "v1 = .2 * ESTADO_PERMANENTE\n",
        "v2 = .6 * ESTADO_PERMANENTE"
      ]
    },
    {
      "cell_type": "code",
      "execution_count": 545,
      "metadata": {
        "colab": {
          "base_uri": "https://localhost:8080/"
        },
        "id": "BLSLTgxBydCH",
        "outputId": "361eaea0-77a6-4eee-aa12-4233864327ef"
      },
      "outputs": [
        {
          "data": {
            "text/plain": [
              "(0.8, 0.8, 1.0)"
            ]
          },
          "execution_count": 545,
          "metadata": {},
          "output_type": "execute_result"
        }
      ],
      "source": [
        "dy = ESTADO_PERMANENTE\n",
        "du = AMP_DEGRAU\n",
        "k = dy / du\n",
        "dy, du, k"
      ]
    },
    {
      "cell_type": "code",
      "execution_count": 546,
      "metadata": {
        "colab": {
          "base_uri": "https://localhost:8080/"
        },
        "id": "Xys5KD6UydCH",
        "outputId": "26d593b2-7092-4350-bcc9-a3d55c484150"
      },
      "outputs": [],
      "source": [
        "k1 = acha_idx(v1, usefv)\n",
        "k2 = acha_idx(v2, usefv)"
      ]
    },
    {
      "cell_type": "code",
      "execution_count": 547,
      "metadata": {
        "colab": {
          "base_uri": "https://localhost:8080/"
        },
        "id": "16ts1lmIydCH",
        "outputId": "822105cd-96cd-4003-bd03-3435ba452820"
      },
      "outputs": [
        {
          "data": {
            "text/plain": [
              "(0.0, 0.5999999999999996)"
            ]
          },
          "execution_count": 547,
          "metadata": {},
          "output_type": "execute_result"
        }
      ],
      "source": [
        "t20, t60 = useft[k1], useft[k2]\n",
        "t20, t60"
      ]
    },
    {
      "cell_type": "code",
      "execution_count": 548,
      "metadata": {
        "colab": {
          "base_uri": "https://localhost:8080/"
        },
        "id": "4rbHpIkHydCH",
        "outputId": "e0db1a23-99c4-4fca-967e-5dbc49e24c54"
      },
      "outputs": [
        {
          "data": {
            "text/plain": [
              "0.0"
            ]
          },
          "execution_count": 548,
          "metadata": {},
          "output_type": "execute_result"
        }
      ],
      "source": [
        "point = t20/t60\n",
        "point"
      ]
    },
    {
      "cell_type": "code",
      "execution_count": 549,
      "metadata": {
        "id": "tyhQRAzsydCI"
      },
      "outputs": [],
      "source": [
        "csi = .4\n",
        "tau = 0.39999999999999997\n",
        "\n",
        "num = [k]\n",
        "den = [tau, 2 * csi * tau, 1]"
      ]
    },
    {
      "cell_type": "code",
      "execution_count": 550,
      "metadata": {
        "colab": {
          "base_uri": "https://localhost:8080/",
          "height": 39
        },
        "id": "qE0OlSeNydCI",
        "outputId": "ec261d8b-8836-4ed5-89d2-776e5e0003fe"
      },
      "outputs": [
        {
          "data": {
            "text/latex": [
              "$$\\frac{1}{0.4 s^2 + 0.32 s + 1}$$"
            ],
            "text/plain": [
              "TransferFunction(array([1.]), array([0.4 , 0.32, 1.  ]))"
            ]
          },
          "execution_count": 550,
          "metadata": {},
          "output_type": "execute_result"
        }
      ],
      "source": [
        "sys = ct.tf(num, den)\n",
        "sys"
      ]
    },
    {
      "cell_type": "code",
      "execution_count": 551,
      "metadata": {
        "colab": {
          "base_uri": "https://localhost:8080/",
          "height": 39
        },
        "id": "MgbMAk-oydCJ",
        "outputId": "c637012d-d4a3-4e97-8a7b-cd329d9f65b0"
      },
      "outputs": [
        {
          "data": {
            "text/latex": [
              "$$\\frac{0.1021 z + 0.09421}{z^2 - 1.59 z + 0.7866}\\quad dt = 0.3$$"
            ],
            "text/plain": [
              "TransferFunction(array([0.10211082, 0.09420645]), array([ 1.        , -1.59031059,  0.78662786]), 0.3)"
            ]
          },
          "execution_count": 551,
          "metadata": {},
          "output_type": "execute_result"
        }
      ],
      "source": [
        "dsys = ctm.c2d(sys, TEMPO_AMOSTRAGEM, 'zoh')\n",
        "dsys"
      ]
    },
    {
      "cell_type": "code",
      "execution_count": 552,
      "metadata": {
        "id": "cvS6qqSsydCJ"
      },
      "outputs": [],
      "source": [
        "temp, amp = ct.step_response(dsys, TEMPO_SIMULACAO)\n",
        "amp *= AMP_DEGRAU\n",
        "valores_estimados.append(amp)"
      ]
    },
    {
      "cell_type": "code",
      "execution_count": 553,
      "metadata": {
        "colab": {
          "base_uri": "https://localhost:8080/",
          "height": 295
        },
        "id": "BlJfWod_ydCJ",
        "outputId": "4e5fdfe6-6223-4439-be96-1cc35f2dc22d"
      },
      "outputs": [
        {
          "data": {
            "image/png": "[encoded data removed]",
            "text/plain": [
              "<Figure size 432x288 with 1 Axes>"
            ]
          },
          "metadata": {
            "needs_background": "light"
          },
          "output_type": "display_data"
        }
      ],
      "source": [
        "plotarGraficos(temp, amp, useft, usefv, NAME)"
      ]
    },
    {
      "cell_type": "markdown",
      "metadata": {
        "id": "ZUXLxa_sydCK"
      },
      "source": [
        "### Harriot"
      ]
    },
    {
      "cell_type": "code",
      "execution_count": 554,
      "metadata": {
        "id": "7740b6DlydCK"
      },
      "outputs": [],
      "source": [
        "ESTADO_PERMANENTE = .8\n",
        "AMP_DEGRAU = .8\n",
        "v73 = .73 * ESTADO_PERMANENTE"
      ]
    },
    {
      "cell_type": "code",
      "execution_count": 555,
      "metadata": {
        "colab": {
          "base_uri": "https://localhost:8080/"
        },
        "id": "bVhjzeLbydCK",
        "outputId": "03a1ba12-5673-4620-9c99-630db166e10d"
      },
      "outputs": [
        {
          "data": {
            "text/plain": [
              "(0.8, 0.8, 1.0)"
            ]
          },
          "execution_count": 555,
          "metadata": {},
          "output_type": "execute_result"
        }
      ],
      "source": [
        "dy = ESTADO_PERMANENTE\n",
        "du = AMP_DEGRAU\n",
        "NAME = 'Harriot'\n",
        "k = dy / du\n",
        "dy, du, k"
      ]
    },
    {
      "cell_type": "code",
      "execution_count": 556,
      "metadata": {
        "colab": {
          "base_uri": "https://localhost:8080/"
        },
        "id": "hhhPJPugydCK",
        "outputId": "98e3b245-f843-4139-d325-650a986a1349"
      },
      "outputs": [
        {
          "name": "stdout",
          "output_type": "stream",
          "text": [
            "idx = 3  busquei = 0.584 achei = 0.61095 no tempo = 0.8999999999999999\n"
          ]
        }
      ],
      "source": [
        "k73 = acha_idx(v73, usefv)\n",
        "print(\"idx =\", k73,\" busquei =\", v73, \"achei =\", usefv[k73], \"no tempo =\", useft[k73])"
      ]
    },
    {
      "cell_type": "code",
      "execution_count": 557,
      "metadata": {
        "colab": {
          "base_uri": "https://localhost:8080/"
        },
        "id": "oj1PR9HRydCK",
        "outputId": "cf07bd49-0284-4b73-ca75-324ad8ed2455"
      },
      "outputs": [
        {
          "data": {
            "text/plain": [
              "0.3461538461538461"
            ]
          },
          "execution_count": 557,
          "metadata": {},
          "output_type": "execute_result"
        }
      ],
      "source": [
        "t1 = useft[k73] / 2.6\n",
        "t1"
      ]
    },
    {
      "cell_type": "code",
      "execution_count": 558,
      "metadata": {
        "colab": {
          "base_uri": "https://localhost:8080/"
        },
        "id": "3Rnj1bKtydCK",
        "outputId": "c4141dcf-45b2-4983-a0ff-c81fa7d5afad"
      },
      "outputs": [
        {
          "name": "stdout",
          "output_type": "stream",
          "text": [
            "idx = 1  busquei = 0.3461538461538461 achei = 0.2999999999999998 no valor = 0.37634\n"
          ]
        },
        {
          "data": {
            "text/plain": [
              "0.37634"
            ]
          },
          "execution_count": 558,
          "metadata": {},
          "output_type": "execute_result"
        }
      ],
      "source": [
        "k1 = acha_idx(t1, useft)\n",
        "print(\"idx =\", k1,\" busquei =\", t1, \"achei =\", useft[k1], \"no valor =\", usefv[k1])\n",
        "y1 = usefv[k1]\n",
        "y1"
      ]
    },
    {
      "cell_type": "code",
      "execution_count": 559,
      "metadata": {
        "colab": {
          "base_uri": "https://localhost:8080/"
        },
        "id": "xd6fpVnZydCL",
        "outputId": "42bda4c5-c170-4ff2-d894-0e0ab4cc0f25"
      },
      "outputs": [
        {
          "data": {
            "text/plain": [
              "0.470425"
            ]
          },
          "execution_count": 559,
          "metadata": {},
          "output_type": "execute_result"
        }
      ],
      "source": [
        "ponto_h = y1/ESTADO_PERMANENTE\n",
        "ponto_h"
      ]
    },
    {
      "cell_type": "markdown",
      "metadata": {
        "id": "d2urx78yydCL"
      },
      "source": [
        "Método fica por aqui porque o ponto nao existe no grafico"
      ]
    },
    {
      "cell_type": "markdown",
      "metadata": {
        "id": "bhgjamHPydCN"
      },
      "source": [
        "### Mollenkamp"
      ]
    },
    {
      "cell_type": "code",
      "execution_count": 560,
      "metadata": {
        "id": "lkcaFpgkydCN"
      },
      "outputs": [],
      "source": [
        "NAME = 'Mollenkamp'\n",
        "v1 = .15 * ESTADO_PERMANENTE\n",
        "v2 = .45 * ESTADO_PERMANENTE\n",
        "v3 = .75 * ESTADO_PERMANENTE"
      ]
    },
    {
      "cell_type": "code",
      "execution_count": 561,
      "metadata": {
        "colab": {
          "base_uri": "https://localhost:8080/"
        },
        "id": "hirVm4bSydCN",
        "outputId": "f26b8718-dda7-429b-8d59-77dddae5355a"
      },
      "outputs": [
        {
          "data": {
            "text/plain": [
              "(0.8, 0.8, 1.0)"
            ]
          },
          "execution_count": 561,
          "metadata": {},
          "output_type": "execute_result"
        }
      ],
      "source": [
        "dy = ESTADO_PERMANENTE\n",
        "du = AMP_DEGRAU\n",
        "k = dy / du\n",
        "dy, du, k"
      ]
    },
    {
      "cell_type": "code",
      "execution_count": 562,
      "metadata": {
        "colab": {
          "base_uri": "https://localhost:8080/"
        },
        "id": "YAi9XA-qydCN",
        "outputId": "04b0672a-b87a-4ba7-ab5c-6745d25fc78c"
      },
      "outputs": [],
      "source": [
        "k1 = acha_idx(v1, usefv)\n",
        "k2 = acha_idx(v2, usefv)\n",
        "k3 = acha_idx(v3, usefv)"
      ]
    },
    {
      "cell_type": "code",
      "execution_count": 563,
      "metadata": {
        "colab": {
          "base_uri": "https://localhost:8080/"
        },
        "id": "Q6lHTSgKydCN",
        "outputId": "c7697a09-e9db-44b0-c66f-242634c53fed"
      },
      "outputs": [
        {
          "data": {
            "text/plain": [
              "(0.0, 0.2999999999999998, 0.8999999999999999)"
            ]
          },
          "execution_count": 563,
          "metadata": {},
          "output_type": "execute_result"
        }
      ],
      "source": [
        "t1 = useft[k1]\n",
        "t2 = useft[k2]\n",
        "t3 = useft[k3]\n",
        "t1, t2, t3"
      ]
    },
    {
      "cell_type": "code",
      "execution_count": 564,
      "metadata": {
        "colab": {
          "base_uri": "https://localhost:8080/"
        },
        "id": "XSbQUZA2ydCN",
        "outputId": "592762d4-5ad1-4786-84ef-3082d3b8e2af"
      },
      "outputs": [
        {
          "data": {
            "text/plain": [
              "0.33333333333333315"
            ]
          },
          "execution_count": 564,
          "metadata": {},
          "output_type": "execute_result"
        }
      ],
      "source": [
        "x = (t2 - t1) / (t3 - t1)\n",
        "x"
      ]
    },
    {
      "cell_type": "code",
      "execution_count": 565,
      "metadata": {
        "id": "S3sRxPhdydCO"
      },
      "outputs": [],
      "source": [
        "qsi = (0.0805 - 5.547 * ((0.475 - x)**2))/(x-0.356)\n",
        "\n",
        "f2 = 0\n",
        "if qsi < 1:\n",
        "    f2 = (0.708) * (2.811)**qsi\n",
        "else:\n",
        "    f2 = 2.6 * qsi-0.6\n",
        "\n",
        "wn = f2 / (t3 - t1)"
      ]
    },
    {
      "cell_type": "code",
      "execution_count": 566,
      "metadata": {
        "id": "lXfRtVopydCO"
      },
      "outputs": [],
      "source": [
        "num = [k * wn * wn]\n",
        "den = [1, 2 * qsi * wn, wn**2]"
      ]
    },
    {
      "cell_type": "code",
      "execution_count": 567,
      "metadata": {
        "colab": {
          "base_uri": "https://localhost:8080/",
          "height": 39
        },
        "id": "wCn3J3nWydCO",
        "outputId": "54bbce5b-dd0a-4356-dbe9-3221017b8389"
      },
      "outputs": [
        {
          "data": {
            "text/latex": [
              "$$\\frac{10.64}{s^2 + 8.872 s + 10.64}$$"
            ],
            "text/plain": [
              "TransferFunction(array([10.64088119]), array([ 1.        ,  8.87231914, 10.64088119]))"
            ]
          },
          "execution_count": 567,
          "metadata": {},
          "output_type": "execute_result"
        }
      ],
      "source": [
        "sys = ct.tf(num, den)\n",
        "sys"
      ]
    },
    {
      "cell_type": "code",
      "execution_count": 568,
      "metadata": {
        "colab": {
          "base_uri": "https://localhost:8080/",
          "height": 39
        },
        "id": "wUuVACqJydCO",
        "outputId": "b97b721d-2164-4393-a1f9-834e5e3cb217"
      },
      "outputs": [
        {
          "data": {
            "text/latex": [
              "$$\\frac{0.2194 z + 0.09195}{z^2 - 0.7584 z + 0.06983}\\quad dt = 0.3$$"
            ],
            "text/plain": [
              "TransferFunction(array([0.21943965, 0.0919468 ]), array([ 1.        , -0.75844326,  0.06982971]), 0.3)"
            ]
          },
          "execution_count": 568,
          "metadata": {},
          "output_type": "execute_result"
        }
      ],
      "source": [
        "dsys = ctm.c2d(sys, TEMPO_AMOSTRAGEM, 'zoh')\n",
        "dsys"
      ]
    },
    {
      "cell_type": "code",
      "execution_count": 569,
      "metadata": {
        "id": "cbPWL2qaydCO"
      },
      "outputs": [],
      "source": [
        "temp, amp = ct.step_response(dsys, TEMPO_SIMULACAO)\n",
        "amp *= AMP_DEGRAU\n",
        "valores_estimados.append(amp)"
      ]
    },
    {
      "cell_type": "code",
      "execution_count": 570,
      "metadata": {
        "colab": {
          "base_uri": "https://localhost:8080/",
          "height": 295
        },
        "id": "PwK1MhjeydCP",
        "outputId": "1199c37f-3516-4728-8b95-db7fe1db48be"
      },
      "outputs": [
        {
          "data": {
            "image/png": "[encoded data removed]",
            "text/plain": [
              "<Figure size 432x288 with 1 Axes>"
            ]
          },
          "metadata": {
            "needs_background": "light"
          },
          "output_type": "display_data"
        }
      ],
      "source": [
        "plotarGraficos(temp, amp, useft, usefv, NAME)"
      ]
    },
    {
      "attachments": {},
      "cell_type": "markdown",
      "metadata": {
        "id": "-PMQdUpLydCP"
      },
      "source": [
        "### **Estatística** "
      ]
    },
    {
      "cell_type": "code",
      "execution_count": 571,
      "metadata": {
        "colab": {
          "base_uri": "https://localhost:8080/"
        },
        "id": "EOcxDvMgydCP",
        "outputId": "3e41a389-f4b5-45fd-da55-78da3c1c094b"
      },
      "outputs": [
        {
          "name": "stdout",
          "output_type": "stream",
          "text": [
            "Ziegler-Nichols\n",
            "NMRSE =  0.9762138691066191\n",
            "r2 =  0.984510015247692\n",
            "pearson =  0.9957061960856685\n",
            "\n",
            "Smith de primeira ordem\n",
            "NMRSE =  0.9649515981907705\n",
            "r2 =  0.966368997010822\n",
            "pearson =  0.9911563628108628\n",
            "\n",
            "Sundaresan\n",
            "NMRSE =  0.9778610086110007\n",
            "r2 =  0.9865810342608722\n",
            "pearson =  0.9965632927333264\n",
            "\n",
            "Broida\n",
            "NMRSE =  0.8517469375804959\n",
            "r2 =  0.39825744209769676\n",
            "pearson =  0.8922280882093037\n",
            "\n",
            "Smith de segunda ordem\n",
            "NMRSE =  0.8095871113011998\n",
            "r2 =  0.0073501880531293695\n",
            "pearson =  0.7851160427245049\n",
            "\n",
            "Mollenkamp\n",
            "NMRSE =  0.9414619630062765\n",
            "r2 =  0.906183399730591\n",
            "pearson =  0.9763690531784777\n",
            "\n"
          ]
        }
      ],
      "source": [
        "n = len(valores_estimados)\n",
        "modelos = ['Ziegler-Nichols', 'Smith de primeira ordem', 'Sundaresan', 'Broida', 'Smith de segunda ordem', 'Mollenkamp']\n",
        "for i in range(n):\n",
        "    print(modelos[i])\n",
        "    calcula_estatistica(usefv, valores_estimados[i])\n",
        "    print()"
      ]
    },
    {
      "attachments": {},
      "cell_type": "markdown",
      "metadata": {
        "id": "huO3xiWy37KE"
      },
      "source": [
        "## **Sintonia do PID**\n"
      ]
    },
    {
      "attachments": {},
      "cell_type": "markdown",
      "metadata": {
        "id": "s6uHIdnA7qaL"
      },
      "source": [
        "### Método de Ziegler"
      ]
    },
    {
      "cell_type": "code",
      "execution_count": 572,
      "metadata": {
        "id": "4yRo5FxI359T"
      },
      "outputs": [],
      "source": [
        "def PID_Z_N_sintony(transfer_func,T,D,K):\n",
        "  kp = 1.2*T/(K*D)\n",
        "  ti = 2*D\n",
        "  td = D/2\n",
        "  return kp,ti,td\n",
        "\n",
        "def PI_Z_N_sintony(transfer_func,T,D,K):\n",
        "  kp = 0.9*T/(K*D)\n",
        "  ti = 3.3*D\n",
        "  return kp,ti"
      ]
    },
    {
      "cell_type": "code",
      "execution_count": 573,
      "metadata": {
        "colab": {
          "base_uri": "https://localhost:8080/"
        },
        "id": "XzudRllI6g6j",
        "outputId": "821ec307-2019-4069-ef28-708ed62b31b1"
      },
      "outputs": [
        {
          "name": "stdout",
          "output_type": "stream",
          "text": [
            "Para o PID, pelo método de Ziegler o kp vale 2.5508848381782414, o ti é igual 0.6, e o td é 0.15 \n"
          ]
        }
      ],
      "source": [
        "kp,ti,td = PID_Z_N_sintony(best_model,T_zig,.3,1) ## PID\n",
        "print(f\"Para o PID, pelo método de Ziegler o kp vale {kp}, o ti é igual {ti}, e o td é {td} \")"
      ]
    },
    {
      "cell_type": "code",
      "execution_count": 574,
      "metadata": {
        "colab": {
          "base_uri": "https://localhost:8080/"
        },
        "id": "48GTIHMj73Vy",
        "outputId": "1644acd6-0602-4c96-c1ee-4897b64ba674"
      },
      "outputs": [
        {
          "name": "stdout",
          "output_type": "stream",
          "text": [
            "Para o PI, pelo método de Ziegler o kp vale 1.913163628633681, o ti é igual 0.9899999999999999\n"
          ]
        }
      ],
      "source": [
        "kp,ti = PI_Z_N_sintony(best_model,T_zig,.3,1) ## PID\n",
        "print(f\"Para o PI, pelo método de Ziegler o kp vale {kp}, o ti é igual {ti}\")"
      ]
    },
    {
      "cell_type": "code",
      "execution_count": 575,
      "metadata": {
        "colab": {
          "base_uri": "https://localhost:8080/"
        },
        "id": "pyufCg-I9ync",
        "outputId": "41dc7650-7349-45cf-bbf6-5845a7a7ec7b"
      },
      "outputs": [
        {
          "data": {
            "text/plain": [
              "[[[1.0]], [[0.6030000000000003, 1]]]"
            ]
          },
          "execution_count": 575,
          "metadata": {},
          "output_type": "execute_result"
        }
      ],
      "source": [
        "best_model"
      ]
    },
    {
      "cell_type": "markdown",
      "metadata": {
        "id": "N3Fs1yRaU5xA"
      },
      "source": [
        "## Método de CHR sem sobrevalor"
      ]
    },
    {
      "cell_type": "code",
      "execution_count": 576,
      "metadata": {
        "id": "6fTa_-agU5Dd"
      },
      "outputs": [],
      "source": [
        "def PID_CHR_sintony(transfer_func,T,D,K):\n",
        "  kp = 0.6*T/(K*D)\n",
        "  ti = T\n",
        "  td = D/2\n",
        "  return kp,ti,td;\n",
        "\n",
        "def PI_CHR_sintony(transfer_func,T,D,K):\n",
        "  kp = 0.35*T/(K*D)\n",
        "  ti = 1.16*D\n",
        "  return kp,ti"
      ]
    },
    {
      "cell_type": "code",
      "execution_count": 577,
      "metadata": {
        "colab": {
          "base_uri": "https://localhost:8080/"
        },
        "id": "J7E-XZOmVzoO",
        "outputId": "23cc78d5-58e1-4feb-e264-fd7da86a56c1"
      },
      "outputs": [
        {
          "name": "stdout",
          "output_type": "stream",
          "text": [
            "Para o PID, pelo método de CHR o kp vale 1.2754424190891207, o ti é igual 0.6377212095445604, e o td é 0.15 \n"
          ]
        }
      ],
      "source": [
        "kp,ti,td = PID_CHR_sintony(best_model,T_zig,.3,1) ## PID\n",
        "print(f\"Para o PID, pelo método de CHR o kp vale {kp}, o ti é igual {ti}, e o td é {td} \")"
      ]
    },
    {
      "cell_type": "code",
      "execution_count": 578,
      "metadata": {
        "colab": {
          "base_uri": "https://localhost:8080/"
        },
        "id": "mCDSBOOqV0Vt",
        "outputId": "ce2447e5-070a-437b-9b1f-86103c8feecb"
      },
      "outputs": [
        {
          "name": "stdout",
          "output_type": "stream",
          "text": [
            "Para o PID, pelo método de CHR o kp vale 0.7440080778019871, o ti é igual 0.348, e o td é 0.15 \n"
          ]
        }
      ],
      "source": [
        "kp,ti = PI_CHR_sintony(best_model,T_zig,.3,1) ## PID\n",
        "print(f\"Para o PID, pelo método de CHR o kp vale {kp}, o ti é igual {ti}, e o td é {td} \")"
      ]
    },
    {
      "cell_type": "markdown",
      "metadata": {
        "id": "0p4Glp4aYah1"
      },
      "source": [
        "## Método CHR 20% sobresinal"
      ]
    },
    {
      "cell_type": "code",
      "execution_count": 579,
      "metadata": {
        "id": "I5qtqIlVYYzE"
      },
      "outputs": [],
      "source": [
        "def PID_CHR_sintony_20(transfer_func,T,D,K):\n",
        "  kp = 0.95*T/(K*D)\n",
        "  ti = 1.357*T\n",
        "  td = 0.473*D\n",
        "  return kp,ti,td;\n",
        "\n",
        "def PI_CHR_sintony_20(transfer_func,T,D,K):\n",
        "  kp = 0.6*T/(K*D)\n",
        "  ti = D\n",
        "  return kp,ti"
      ]
    },
    {
      "cell_type": "code",
      "execution_count": 580,
      "metadata": {
        "colab": {
          "base_uri": "https://localhost:8080/"
        },
        "id": "qvHE2Wl4YYzK",
        "outputId": "fee8de26-849a-46fe-f416-37dbcdf77c0d"
      },
      "outputs": [
        {
          "name": "stdout",
          "output_type": "stream",
          "text": [
            "Para o PID, pelo método de CHR o kp vale 2.019450496891108, o ti é igual 0.8653876813519684, e o td é 0.1419 \n"
          ]
        }
      ],
      "source": [
        "kp,ti,td = PID_CHR_sintony_20(best_model,T_zig,.3,1) ## PID\n",
        "print(f\"Para o PID, pelo método de CHR o kp vale {kp}, o ti é igual {ti}, e o td é {td} \")"
      ]
    },
    {
      "cell_type": "code",
      "execution_count": 581,
      "metadata": {
        "colab": {
          "base_uri": "https://localhost:8080/"
        },
        "id": "3UKE5R3LYYzK",
        "outputId": "e36326e0-57c0-4b24-ef3a-495cd26eb189"
      },
      "outputs": [
        {
          "name": "stdout",
          "output_type": "stream",
          "text": [
            "Para o PID, pelo método de CHR o kp vale 1.2754424190891207, o ti é igual 0.3 \n"
          ]
        }
      ],
      "source": [
        "kp,ti = PI_CHR_sintony_20(best_model,T_zig,.3,1) ## PID\n",
        "print(f\"Para o PID, pelo método de CHR o kp vale {kp}, o ti é igual {ti} \")"
      ]
    }
  ],
  "metadata": {
    "colab": {
      "provenance": []
    },
    "kernelspec": {
      "display_name": "Python 3",
      "language": "python",
      "name": "python3"
    },
    "language_info": {
      "codemirror_mode": {
        "name": "ipython",
        "version": 3
      },
      "file_extension": ".py",
      "mimetype": "text/x-python",
      "name": "python",
      "nbconvert_exporter": "python",
      "pygments_lexer": "ipython3",
      "version": "3.10.6"
    },
    "orig_nbformat": 4,
    "vscode": {
      "interpreter": {
        "hash": "31f2aee4e71d21fbe5cf8b01ff0e069b9275f58929596ceb00d14d90e3e16cd6"
      }
    }
  },
  "nbformat": 4,
  "nbformat_minor": 0
}
